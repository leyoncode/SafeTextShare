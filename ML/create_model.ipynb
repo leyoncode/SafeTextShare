{
 "cells": [
  {
   "cell_type": "code",
   "id": "initial_id",
   "metadata": {
    "collapsed": true,
    "ExecuteTime": {
     "end_time": "2024-08-30T20:20:11.470361Z",
     "start_time": "2024-08-30T20:20:11.194208Z"
    }
   },
   "source": "import pandas as pd",
   "outputs": [],
   "execution_count": 1
  },
  {
   "metadata": {},
   "cell_type": "code",
   "source": "data = pd.read_csv('data/HateSpeechDataset.csv')",
   "id": "d8dbfa9aef70ebb3",
   "outputs": [],
   "execution_count": null
  },
  {
   "metadata": {},
   "cell_type": "code",
   "source": "data",
   "id": "565908ddea920d0a",
   "outputs": [],
   "execution_count": null
  },
  {
   "metadata": {},
   "cell_type": "code",
   "source": "data.Label.unique()",
   "id": "282d23b8778c8ee2",
   "outputs": [],
   "execution_count": null
  },
  {
   "metadata": {},
   "cell_type": "code",
   "source": "data.Label.dtypes",
   "id": "333815a2ff3d117f",
   "outputs": [],
   "execution_count": null
  },
  {
   "metadata": {},
   "cell_type": "code",
   "source": "data = data[data[\"Label\"] != 'Label']\n",
   "id": "5ad38b1023a2158",
   "outputs": [],
   "execution_count": null
  },
  {
   "metadata": {},
   "cell_type": "code",
   "source": "data.Label.unique()",
   "id": "6ce0617a40a66533",
   "outputs": [],
   "execution_count": null
  },
  {
   "metadata": {},
   "cell_type": "code",
   "source": "data.loc[:, 'Label'] = data['Label'].astype(int)",
   "id": "15cc7d5559525a91",
   "outputs": [],
   "execution_count": null
  },
  {
   "metadata": {},
   "cell_type": "code",
   "source": "data.Label.dtypes",
   "id": "5d65e44f7099ceae",
   "outputs": [],
   "execution_count": null
  },
  {
   "metadata": {},
   "cell_type": "code",
   "source": "data.Label.unique()",
   "id": "1a029c3e532b2d54",
   "outputs": [],
   "execution_count": null
  },
  {
   "metadata": {},
   "cell_type": "code",
   "source": "data.to_csv('data/HateSpeechDatasetClean.csv', index=False)",
   "id": "a5406f70c15d5178",
   "outputs": [],
   "execution_count": null
  },
  {
   "metadata": {},
   "cell_type": "code",
   "source": "",
   "id": "adc5965c777046d0",
   "outputs": [],
   "execution_count": null
  },
  {
   "metadata": {
    "ExecuteTime": {
     "end_time": "2024-08-30T20:04:44.657167Z",
     "start_time": "2024-08-30T20:04:44.636199Z"
    }
   },
   "cell_type": "code",
   "source": "bad_words = pd.read_json('data/words.json')",
   "id": "5ec2c2c1aa2d215d",
   "outputs": [],
   "execution_count": 12
  },
  {
   "metadata": {
    "ExecuteTime": {
     "end_time": "2024-08-30T20:04:49.600654Z",
     "start_time": "2024-08-30T20:04:49.584910Z"
    }
   },
   "cell_type": "code",
   "source": "bad_words[0]",
   "id": "10c099c75c8a2451",
   "outputs": [
    {
     "data": {
      "text/plain": [
       "0       2 girls 1 cup\n",
       "1                2g1c\n",
       "2                4r5e\n",
       "3                5h1t\n",
       "4                5hit\n",
       "            ...      \n",
       "2817       zipperhead\n",
       "2818      zipperheads\n",
       "2819         zoophile\n",
       "2820        zoophilia\n",
       "2821                🖕\n",
       "Name: 0, Length: 2822, dtype: object"
      ]
     },
     "execution_count": 13,
     "metadata": {},
     "output_type": "execute_result"
    }
   ],
   "execution_count": 13
  },
  {
   "metadata": {
    "ExecuteTime": {
     "end_time": "2024-08-30T20:00:23.481530Z",
     "start_time": "2024-08-30T20:00:23.473043Z"
    }
   },
   "cell_type": "code",
   "source": "bad_words.shape[0]",
   "id": "7ad74c435deef5fc",
   "outputs": [
    {
     "data": {
      "text/plain": [
       "2822"
      ]
     },
     "execution_count": 7,
     "metadata": {},
     "output_type": "execute_result"
    }
   ],
   "execution_count": 7
  },
  {
   "metadata": {
    "ExecuteTime": {
     "end_time": "2024-08-30T20:00:37.968569Z",
     "start_time": "2024-08-30T20:00:37.960816Z"
    }
   },
   "cell_type": "code",
   "source": "bad_words_label = [1] * bad_words.shape[0]",
   "id": "82b5f61a4faea23a",
   "outputs": [],
   "execution_count": 9
  },
  {
   "metadata": {
    "ExecuteTime": {
     "end_time": "2024-08-30T20:03:22.363908Z",
     "start_time": "2024-08-30T20:03:22.353806Z"
    }
   },
   "cell_type": "code",
   "source": "wordlist = pd.DataFrame()",
   "id": "5a57c955e8356239",
   "outputs": [],
   "execution_count": 10
  },
  {
   "metadata": {
    "ExecuteTime": {
     "end_time": "2024-08-30T20:05:08.203340Z",
     "start_time": "2024-08-30T20:05:08.178532Z"
    }
   },
   "cell_type": "code",
   "source": [
    "wordlist['Content'] = bad_words[0]\n",
    "wordlist['Label'] = bad_words_label"
   ],
   "id": "fe0fa8ff43b8bd08",
   "outputs": [],
   "execution_count": 14
  },
  {
   "metadata": {
    "ExecuteTime": {
     "end_time": "2024-08-30T20:05:13.134711Z",
     "start_time": "2024-08-30T20:05:13.111678Z"
    }
   },
   "cell_type": "code",
   "source": "wordlist.head()",
   "id": "29fa652c7937388b",
   "outputs": [
    {
     "data": {
      "text/plain": [
       "         Content  Label\n",
       "0  2 girls 1 cup      1\n",
       "1           2g1c      1\n",
       "2           4r5e      1\n",
       "3           5h1t      1\n",
       "4           5hit      1"
      ],
      "text/html": [
       "<div>\n",
       "<style scoped>\n",
       "    .dataframe tbody tr th:only-of-type {\n",
       "        vertical-align: middle;\n",
       "    }\n",
       "\n",
       "    .dataframe tbody tr th {\n",
       "        vertical-align: top;\n",
       "    }\n",
       "\n",
       "    .dataframe thead th {\n",
       "        text-align: right;\n",
       "    }\n",
       "</style>\n",
       "<table border=\"1\" class=\"dataframe\">\n",
       "  <thead>\n",
       "    <tr style=\"text-align: right;\">\n",
       "      <th></th>\n",
       "      <th>Content</th>\n",
       "      <th>Label</th>\n",
       "    </tr>\n",
       "  </thead>\n",
       "  <tbody>\n",
       "    <tr>\n",
       "      <th>0</th>\n",
       "      <td>2 girls 1 cup</td>\n",
       "      <td>1</td>\n",
       "    </tr>\n",
       "    <tr>\n",
       "      <th>1</th>\n",
       "      <td>2g1c</td>\n",
       "      <td>1</td>\n",
       "    </tr>\n",
       "    <tr>\n",
       "      <th>2</th>\n",
       "      <td>4r5e</td>\n",
       "      <td>1</td>\n",
       "    </tr>\n",
       "    <tr>\n",
       "      <th>3</th>\n",
       "      <td>5h1t</td>\n",
       "      <td>1</td>\n",
       "    </tr>\n",
       "    <tr>\n",
       "      <th>4</th>\n",
       "      <td>5hit</td>\n",
       "      <td>1</td>\n",
       "    </tr>\n",
       "  </tbody>\n",
       "</table>\n",
       "</div>"
      ]
     },
     "execution_count": 15,
     "metadata": {},
     "output_type": "execute_result"
    }
   ],
   "execution_count": 15
  },
  {
   "metadata": {
    "ExecuteTime": {
     "end_time": "2024-08-30T20:05:36.866959Z",
     "start_time": "2024-08-30T20:05:36.851944Z"
    }
   },
   "cell_type": "code",
   "source": "wordlist.to_csv('data/bad_words.csv', index=False)",
   "id": "73b9fc07ed8fee05",
   "outputs": [],
   "execution_count": 16
  },
  {
   "metadata": {},
   "cell_type": "code",
   "outputs": [],
   "execution_count": null,
   "source": "",
   "id": "58ff56faee35576e"
  },
  {
   "metadata": {},
   "cell_type": "markdown",
   "source": "merge",
   "id": "6f78077dbe32842b"
  },
  {
   "metadata": {
    "ExecuteTime": {
     "end_time": "2024-08-30T20:23:56.686683Z",
     "start_time": "2024-08-30T20:23:54.706147Z"
    }
   },
   "cell_type": "code",
   "source": [
    "df1 = pd.read_csv('data/HateSpeechDatasetFixed.csv')\n",
    "df2 = pd.read_csv('data/bad_words.csv')"
   ],
   "id": "deb0fc1c802ff3d",
   "outputs": [],
   "execution_count": 2
  },
  {
   "metadata": {
    "ExecuteTime": {
     "end_time": "2024-08-30T20:39:11.657684Z",
     "start_time": "2024-08-30T20:39:11.645150Z"
    }
   },
   "cell_type": "code",
   "source": "df1.shape",
   "id": "6ccbbae851c031db",
   "outputs": [
    {
     "data": {
      "text/plain": [
       "(440899, 3)"
      ]
     },
     "execution_count": 3,
     "metadata": {},
     "output_type": "execute_result"
    }
   ],
   "execution_count": 3
  },
  {
   "metadata": {
    "ExecuteTime": {
     "end_time": "2024-08-30T20:39:17.196690Z",
     "start_time": "2024-08-30T20:39:17.182020Z"
    }
   },
   "cell_type": "code",
   "source": "df2.shape",
   "id": "9c4d2adde9823ce4",
   "outputs": [
    {
     "data": {
      "text/plain": [
       "(2822, 2)"
      ]
     },
     "execution_count": 4,
     "metadata": {},
     "output_type": "execute_result"
    }
   ],
   "execution_count": 4
  },
  {
   "metadata": {
    "ExecuteTime": {
     "end_time": "2024-08-30T20:51:00.664320Z",
     "start_time": "2024-08-30T20:51:00.655050Z"
    }
   },
   "cell_type": "code",
   "source": "df2_dupl = pd.concat([df2, df2])",
   "id": "9256caaaec19e074",
   "outputs": [],
   "execution_count": 7
  },
  {
   "metadata": {
    "ExecuteTime": {
     "end_time": "2024-08-30T21:26:11.281113Z",
     "start_time": "2024-08-30T21:26:11.258734Z"
    }
   },
   "cell_type": "code",
   "source": "df2_dupl.shape",
   "id": "d967927097c13a57",
   "outputs": [
    {
     "data": {
      "text/plain": [
       "(5644, 2)"
      ]
     },
     "execution_count": 18,
     "metadata": {},
     "output_type": "execute_result"
    }
   ],
   "execution_count": 18
  },
  {
   "metadata": {
    "ExecuteTime": {
     "end_time": "2024-08-30T21:26:37.646145Z",
     "start_time": "2024-08-30T21:26:37.632853Z"
    }
   },
   "cell_type": "code",
   "source": "df2_dupl2 = pd.concat([df2_dupl, df2_dupl])",
   "id": "308c9d06fbdfccbe",
   "outputs": [],
   "execution_count": 19
  },
  {
   "metadata": {
    "ExecuteTime": {
     "end_time": "2024-08-30T21:26:38.864962Z",
     "start_time": "2024-08-30T21:26:38.852795Z"
    }
   },
   "cell_type": "code",
   "source": "df2_dupl2.shape",
   "id": "a28723bfe9fddfed",
   "outputs": [
    {
     "data": {
      "text/plain": [
       "(11288, 2)"
      ]
     },
     "execution_count": 20,
     "metadata": {},
     "output_type": "execute_result"
    }
   ],
   "execution_count": 20
  },
  {
   "metadata": {
    "ExecuteTime": {
     "end_time": "2024-08-30T20:52:41.738859Z",
     "start_time": "2024-08-30T20:52:41.687583Z"
    }
   },
   "cell_type": "code",
   "source": "df1[df1['Label'] == 0].shape",
   "id": "9f2ca3396cfe581",
   "outputs": [
    {
     "data": {
      "text/plain": [
       "(361594, 3)"
      ]
     },
     "execution_count": 12,
     "metadata": {},
     "output_type": "execute_result"
    }
   ],
   "execution_count": 12
  },
  {
   "metadata": {
    "ExecuteTime": {
     "end_time": "2024-08-30T20:52:31.843246Z",
     "start_time": "2024-08-30T20:52:31.820531Z"
    }
   },
   "cell_type": "code",
   "source": "df1[df1['Label'] == 1].shape",
   "id": "1100fbdfa1248505",
   "outputs": [
    {
     "data": {
      "text/plain": [
       "(79305, 3)"
      ]
     },
     "execution_count": 11,
     "metadata": {},
     "output_type": "execute_result"
    }
   ],
   "execution_count": 11
  },
  {
   "metadata": {
    "ExecuteTime": {
     "end_time": "2024-08-30T21:28:19.368260Z",
     "start_time": "2024-08-30T21:28:19.347503Z"
    }
   },
   "cell_type": "code",
   "source": "79305*4 + 2822*4",
   "id": "84d9026aa73125e1",
   "outputs": [
    {
     "data": {
      "text/plain": [
       "328508"
      ]
     },
     "execution_count": 21,
     "metadata": {},
     "output_type": "execute_result"
    }
   ],
   "execution_count": 21
  },
  {
   "metadata": {
    "ExecuteTime": {
     "end_time": "2024-08-30T21:28:30.065910Z",
     "start_time": "2024-08-30T21:28:30.023688Z"
    }
   },
   "cell_type": "code",
   "source": "df1_dupl = pd.concat([df1[df1['Label'] == 1], df1[df1['Label'] == 1]])",
   "id": "acba8bf002203a8f",
   "outputs": [],
   "execution_count": 22
  },
  {
   "metadata": {
    "ExecuteTime": {
     "end_time": "2024-08-30T21:28:39.468401Z",
     "start_time": "2024-08-30T21:28:39.460469Z"
    }
   },
   "cell_type": "code",
   "source": "df1_dupl.shape",
   "id": "c61bf1c443d827c",
   "outputs": [
    {
     "data": {
      "text/plain": [
       "(158610, 3)"
      ]
     },
     "execution_count": 23,
     "metadata": {},
     "output_type": "execute_result"
    }
   ],
   "execution_count": 23
  },
  {
   "metadata": {
    "ExecuteTime": {
     "end_time": "2024-08-30T21:29:01.770695Z",
     "start_time": "2024-08-30T21:29:01.747869Z"
    }
   },
   "cell_type": "code",
   "source": "df1_dupl2 = pd.concat([df1_dupl, df1_dupl])",
   "id": "505e0a43904b551c",
   "outputs": [],
   "execution_count": 24
  },
  {
   "metadata": {
    "ExecuteTime": {
     "end_time": "2024-08-30T21:29:07.339216Z",
     "start_time": "2024-08-30T21:29:07.327895Z"
    }
   },
   "cell_type": "code",
   "source": "df1_dupl2.shape",
   "id": "9a8a31095d98cd93",
   "outputs": [
    {
     "data": {
      "text/plain": [
       "(317220, 3)"
      ]
     },
     "execution_count": 25,
     "metadata": {},
     "output_type": "execute_result"
    }
   ],
   "execution_count": 25
  },
  {
   "metadata": {
    "ExecuteTime": {
     "end_time": "2024-08-30T21:31:12.766351Z",
     "start_time": "2024-08-30T21:31:12.667093Z"
    }
   },
   "cell_type": "code",
   "source": [
    "final_bad_df = pd.concat([df1_dupl2, df2_dupl2])\n",
    "final_df = pd.concat([final_bad_df, df1[df1['Label'] == 0]])"
   ],
   "id": "1058d4638ad4c3d2",
   "outputs": [],
   "execution_count": 27
  },
  {
   "metadata": {
    "ExecuteTime": {
     "end_time": "2024-08-30T21:31:22.429533Z",
     "start_time": "2024-08-30T21:31:22.415953Z"
    }
   },
   "cell_type": "code",
   "source": "final_df.shape",
   "id": "e16877da574bf15e",
   "outputs": [
    {
     "data": {
      "text/plain": [
       "(690102, 3)"
      ]
     },
     "execution_count": 28,
     "metadata": {},
     "output_type": "execute_result"
    }
   ],
   "execution_count": 28
  },
  {
   "metadata": {
    "ExecuteTime": {
     "end_time": "2024-08-30T21:33:02.133968Z",
     "start_time": "2024-08-30T21:33:02.086531Z"
    }
   },
   "cell_type": "code",
   "source": "final_df = final_df.drop(\"Content_int\", axis=1)",
   "id": "ba1e18beecd23691",
   "outputs": [],
   "execution_count": 32
  },
  {
   "metadata": {
    "ExecuteTime": {
     "end_time": "2024-08-30T21:34:14.061421Z",
     "start_time": "2024-08-30T21:34:14.038770Z"
    }
   },
   "cell_type": "code",
   "source": "final_df['Label'].value_counts()",
   "id": "fcd78367398c5171",
   "outputs": [
    {
     "data": {
      "text/plain": [
       "Label\n",
       "0    361594\n",
       "1    328508\n",
       "Name: count, dtype: int64"
      ]
     },
     "execution_count": 38,
     "metadata": {},
     "output_type": "execute_result"
    }
   ],
   "execution_count": 38
  },
  {
   "metadata": {
    "ExecuteTime": {
     "end_time": "2024-08-30T21:36:51.554322Z",
     "start_time": "2024-08-30T21:36:51.460214Z"
    }
   },
   "cell_type": "code",
   "source": [
    "# Shuffle the DataFrame\n",
    "final_df_shuffled = final_df.sample(frac=1, random_state=69).reset_index(drop=True)\n",
    "\n",
    "final_df_shuffled"
   ],
   "id": "e1deea95700d5c17",
   "outputs": [
    {
     "data": {
      "text/plain": [
       "                                                  Content  Label\n",
       "0       is the year i read no books by white computer ...      0\n",
       "1       on arrival boat migrants are not tested for co...      1\n",
       "2       the essential point is that the peacock does m...      0\n",
       "3       i am looking for them a lot of hay on top of t...      1\n",
       "4       i agree with first suggestion his neutral view...      0\n",
       "...                                                   ...    ...\n",
       "690097  the native american race is the superior race ...      0\n",
       "690098  regulus not flamingos as another reader of thi...      0\n",
       "690099  this can be confirmed from the domestic cricke...      0\n",
       "690100  as most information in this article already ex...      0\n",
       "690101  okay it is allowing me to edit now thanks for ...      0\n",
       "\n",
       "[690102 rows x 2 columns]"
      ],
      "text/html": [
       "<div>\n",
       "<style scoped>\n",
       "    .dataframe tbody tr th:only-of-type {\n",
       "        vertical-align: middle;\n",
       "    }\n",
       "\n",
       "    .dataframe tbody tr th {\n",
       "        vertical-align: top;\n",
       "    }\n",
       "\n",
       "    .dataframe thead th {\n",
       "        text-align: right;\n",
       "    }\n",
       "</style>\n",
       "<table border=\"1\" class=\"dataframe\">\n",
       "  <thead>\n",
       "    <tr style=\"text-align: right;\">\n",
       "      <th></th>\n",
       "      <th>Content</th>\n",
       "      <th>Label</th>\n",
       "    </tr>\n",
       "  </thead>\n",
       "  <tbody>\n",
       "    <tr>\n",
       "      <th>0</th>\n",
       "      <td>is the year i read no books by white computer ...</td>\n",
       "      <td>0</td>\n",
       "    </tr>\n",
       "    <tr>\n",
       "      <th>1</th>\n",
       "      <td>on arrival boat migrants are not tested for co...</td>\n",
       "      <td>1</td>\n",
       "    </tr>\n",
       "    <tr>\n",
       "      <th>2</th>\n",
       "      <td>the essential point is that the peacock does m...</td>\n",
       "      <td>0</td>\n",
       "    </tr>\n",
       "    <tr>\n",
       "      <th>3</th>\n",
       "      <td>i am looking for them a lot of hay on top of t...</td>\n",
       "      <td>1</td>\n",
       "    </tr>\n",
       "    <tr>\n",
       "      <th>4</th>\n",
       "      <td>i agree with first suggestion his neutral view...</td>\n",
       "      <td>0</td>\n",
       "    </tr>\n",
       "    <tr>\n",
       "      <th>...</th>\n",
       "      <td>...</td>\n",
       "      <td>...</td>\n",
       "    </tr>\n",
       "    <tr>\n",
       "      <th>690097</th>\n",
       "      <td>the native american race is the superior race ...</td>\n",
       "      <td>0</td>\n",
       "    </tr>\n",
       "    <tr>\n",
       "      <th>690098</th>\n",
       "      <td>regulus not flamingos as another reader of thi...</td>\n",
       "      <td>0</td>\n",
       "    </tr>\n",
       "    <tr>\n",
       "      <th>690099</th>\n",
       "      <td>this can be confirmed from the domestic cricke...</td>\n",
       "      <td>0</td>\n",
       "    </tr>\n",
       "    <tr>\n",
       "      <th>690100</th>\n",
       "      <td>as most information in this article already ex...</td>\n",
       "      <td>0</td>\n",
       "    </tr>\n",
       "    <tr>\n",
       "      <th>690101</th>\n",
       "      <td>okay it is allowing me to edit now thanks for ...</td>\n",
       "      <td>0</td>\n",
       "    </tr>\n",
       "  </tbody>\n",
       "</table>\n",
       "<p>690102 rows × 2 columns</p>\n",
       "</div>"
      ]
     },
     "execution_count": 41,
     "metadata": {},
     "output_type": "execute_result"
    }
   ],
   "execution_count": 41
  },
  {
   "metadata": {
    "ExecuteTime": {
     "end_time": "2024-08-30T21:38:03.035167Z",
     "start_time": "2024-08-30T21:38:00.428211Z"
    }
   },
   "cell_type": "code",
   "source": "final_df_shuffled.to_csv('data/final_dataset.csv', index=False)",
   "id": "ef0e3ff84a82da37",
   "outputs": [],
   "execution_count": 46
  },
  {
   "metadata": {},
   "cell_type": "code",
   "outputs": [],
   "execution_count": null,
   "source": "",
   "id": "2f92027632a1e868"
  }
 ],
 "metadata": {
  "kernelspec": {
   "display_name": "Python 3",
   "language": "python",
   "name": "python3"
  },
  "language_info": {
   "codemirror_mode": {
    "name": "ipython",
    "version": 2
   },
   "file_extension": ".py",
   "mimetype": "text/x-python",
   "name": "python",
   "nbconvert_exporter": "python",
   "pygments_lexer": "ipython2",
   "version": "2.7.6"
  }
 },
 "nbformat": 4,
 "nbformat_minor": 5
}
